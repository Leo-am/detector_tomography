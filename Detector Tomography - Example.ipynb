{
 "cells": [
  {
   "cell_type": "markdown",
   "id": "d93eb65b-c188-4f6b-8576-17f220e9cb3c",
   "metadata": {},
   "source": [
    "<font size = 6> Detector tomography </font>\n",
    "\n",
    "References:\n",
    "\n",
    "1) **Tomography of Quantum detectors**, Lundeen et al, Nature Physics, vol 5, (2009)\n",
    "2) **Measuring measurement: theory and practice**, Feito et al., New Journal of Physics, vol 11 (2009)\n",
    "\n",
    "\n",
    "and code from http://www.photonicquantum.info/Tools.html."
   ]
  },
  {
   "cell_type": "code",
   "execution_count": 10,
   "id": "43a062b9-7e8a-4002-b334-acb4a83543e6",
   "metadata": {},
   "outputs": [],
   "source": [
    "import numpy as np\n",
    "import qutip as qt"
   ]
  },
  {
   "cell_type": "code",
   "execution_count": 3,
   "id": "4678cc0c-c990-4a94-a0e3-69cf5d5291cd",
   "metadata": {},
   "outputs": [],
   "source": [
    "# list of amplitudes of coherent states used for the tomographic\n",
    "# reconstruction\n",
    "alpha_vec = np.array([1.32, 1.68, 2.06, 2.16])"
   ]
  },
  {
   "cell_type": "code",
   "execution_count": 7,
   "id": "5cd835c7-0398-4d4d-a688-49f4d463d655",
   "metadata": {},
   "outputs": [
    {
     "name": "stdout",
     "output_type": "stream",
     "text": [
      "20 21\n"
     ]
    }
   ],
   "source": [
    "from detector_tomography.detector_tomography import photon_number_cutoff\n",
    "\n",
    "# Rough heuristic for Fock space (number) cut off to represent coherent states\n",
    "Nmax_r = int(np.round(3*max(alpha_vec)**2 + 6))\n",
    "\n",
    "# careful\n",
    "Nmax = photon_number_cutoff(alpha_vec) + 2\n",
    "\n",
    "# see if they are close\n",
    "print(Nmax_r,Nmax)"
   ]
  },
  {
   "cell_type": "code",
   "execution_count": 8,
   "id": "4b81df2a-a265-4a9d-baf7-b8c5eea55490",
   "metadata": {},
   "outputs": [],
   "source": [
    "Nmax = 18"
   ]
  },
  {
   "cell_type": "code",
   "execution_count": 11,
   "id": "f6390574-674e-4e39-bc70-65190eedae47",
   "metadata": {},
   "outputs": [],
   "source": [
    "# list of coherent states rho_alpha = |alpha><alpha|\n",
    "rho_vec = [qt.coherent_dm(Nmax, adx) for adx in alpha_vec]"
   ]
  },
  {
   "cell_type": "markdown",
   "id": "562db1f9-eb33-4c36-bf63-b263f1772de4",
   "metadata": {
    "tags": []
   },
   "source": [
    "## Construct F matrix"
   ]
  },
  {
   "cell_type": "code",
   "execution_count": 13,
   "id": "743be8be-337c-4de7-b0aa-14cd6de352b2",
   "metadata": {},
   "outputs": [
    {
     "data": {
      "text/plain": [
       "(4, 18)"
      ]
     },
     "execution_count": 13,
     "metadata": {},
     "output_type": "execute_result"
    }
   ],
   "source": [
    "from detector_tomography.detector_tomography import f_matrix_coherent_state\n",
    "\n",
    "F = f_matrix_coherent_state(alpha_vec, Nmax)\n",
    "F.shape"
   ]
  },
  {
   "cell_type": "markdown",
   "id": "c17604ce-9aa1-44e0-b78a-e5aaae81b94c",
   "metadata": {},
   "source": [
    "# Reconstruction"
   ]
  },
  {
   "cell_type": "code",
   "execution_count": 14,
   "id": "8b712839-f59e-4388-95c7-210920ef4ecf",
   "metadata": {},
   "outputs": [
    {
     "ename": "NameError",
     "evalue": "name 'estimate_povm_twonorm' is not defined",
     "output_type": "error",
     "traceback": [
      "\u001b[0;31m---------------------------------------------------------------------------\u001b[0m",
      "\u001b[0;31mNameError\u001b[0m                                 Traceback (most recent call last)",
      "Input \u001b[0;32mIn [14]\u001b[0m, in \u001b[0;36m<cell line: 2>\u001b[0;34m()\u001b[0m\n\u001b[1;32m      1\u001b[0m \u001b[38;5;66;03m# Two norm\u001b[39;00m\n\u001b[0;32m----> 2\u001b[0m POVM_2normdat \u001b[38;5;241m=\u001b[39m \u001b[43mestimate_povm_twonorm\u001b[49m(input_states, Prob_data)\n",
      "\u001b[0;31mNameError\u001b[0m: name 'estimate_povm_twonorm' is not defined"
     ]
    }
   ],
   "source": [
    "from detector_tomography.detector_tomography import estimate_povm_twonorm\n",
    "# Two norm\n",
    "POVM_2normdat = estimate_povm_twonorm(input_states, Prob_data)"
   ]
  },
  {
   "cell_type": "markdown",
   "id": "e96b143d-d445-4da5-a691-9ed139f905f4",
   "metadata": {},
   "source": [
    "<font size = 6> END OF NOTEBOOK </font>"
   ]
  }
 ],
 "metadata": {
  "kernelspec": {
   "display_name": "Python 3 (ipykernel)",
   "language": "python",
   "name": "python3"
  },
  "language_info": {
   "codemirror_mode": {
    "name": "ipython",
    "version": 3
   },
   "file_extension": ".py",
   "mimetype": "text/x-python",
   "name": "python",
   "nbconvert_exporter": "python",
   "pygments_lexer": "ipython3",
   "version": "3.9.12"
  }
 },
 "nbformat": 4,
 "nbformat_minor": 5
}
